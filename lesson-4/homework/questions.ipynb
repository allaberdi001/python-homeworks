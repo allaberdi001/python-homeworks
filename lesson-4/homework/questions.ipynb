{
 "cells": [
  {
   "cell_type": "markdown",
   "metadata": {},
   "source": [
    "### 2. What is the difference between the continue and break statements in Python?\n",
    "\n",
    "#### break command breaks the loop completely, while 'continue' skips the remaining code for the current iteration\n",
    "\n",
    "### 3. Can you explain the difference between for loop and while loop?\n",
    "\n",
    "#### for loop iterates through code a specified number of times, while \"while\" loop iterates while condition(s) are met.\n",
    "\n",
    "### 4. How would you implement a nested for loop system? Provide an example.\n",
    "\n",
    "#### just put nested for loops with proper indentation \n",
    "#### e.g"
   ]
  },
  {
   "cell_type": "code",
   "execution_count": null,
   "metadata": {},
   "outputs": [],
   "source": [
    "for i in range(10):\n",
    "    for j in range(10):\n",
    "        print(i,j)"
   ]
  }
 ],
 "metadata": {
  "kernelspec": {
   "display_name": "Python 3",
   "language": "python",
   "name": "python3"
  },
  "language_info": {
   "name": "python",
   "version": "3.10.11"
  }
 },
 "nbformat": 4,
 "nbformat_minor": 2
}
